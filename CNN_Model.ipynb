{
  "cells": [
    {
      "cell_type": "code",
      "execution_count": null,
      "metadata": {
        "id": "VBAl9zAupb0u"
      },
      "outputs": [],
      "source": [
        "import numpy as np \n",
        "import pandas as pd \n",
        "import matplotlib.pyplot as plt\n",
        "import seaborn as sns\n",
        "import tensorflow as tf\n",
        "sns.set()\n",
        "\n",
        "from keras.models import Sequential\n",
        "from keras.layers import Conv2D, Dropout, BatchNormalization, Flatten, Dense, MaxPooling2D\n",
        "from tensorflow.keras.utils import to_categorical\n",
        "from keras.callbacks import EarlyStopping, ReduceLROnPlateau\n",
        "from tensorflow.keras.optimizers import Adam\n",
        "from sklearn.metrics import mean_absolute_error, confusion_matrix, classification_report\n",
        "from sklearn.model_selection import train_test_split\n",
        "from sklearn.metrics import mean_absolute_error"
      ]
    },
    {
      "cell_type": "code",
      "execution_count": null,
      "metadata": {
        "id": "w-nwTtT_pguA",
        "colab": {
          "base_uri": "https://localhost:8080/"
        },
        "outputId": "ccb0b1ae-5f1a-4ca4-e529-9511bb662e95"
      },
      "outputs": [
        {
          "output_type": "stream",
          "name": "stdout",
          "text": [
            "Mounted at /content/drive\n"
          ]
        }
      ],
      "source": [
        "from google.colab import drive\n",
        "drive.mount('/content/drive')"
      ]
    },
    {
      "cell_type": "code",
      "execution_count": null,
      "metadata": {
        "id": "Oh2xd7LPphH7"
      },
      "outputs": [],
      "source": [
        "df = pd.read_csv('/content/drive/MyDrive/shprjct/age_gender.csv')"
      ]
    },
    {
      "cell_type": "code",
      "source": [
        "class CustomDataGen(tf.keras.utils.Sequence):\n",
        "    \n",
        "    def __init__(self, df,\n",
        "                 batch_size = 32,\n",
        "                 input_size=(48, 48, 3),\n",
        "                 shuffle=True,\n",
        "                 data_augmentation = False):\n",
        "        self.df = df\n",
        "        self.batch_size = batch_size\n",
        "        self.input_size = input_size\n",
        "        self.data_augmentation = data_augmentation\n",
        "        self.var = 1\n",
        "        \n",
        "        self.imageGenerator = ImageDataGenerator(\n",
        "            horizontal_flip = True,\n",
        "            #vertical_flip = True,\n",
        "            fill_mode = 'nearest',\n",
        "            zoom_range = (1, 1.1),\n",
        "            width_shift_range = 0.1,\n",
        "            height_shift_range = 0.1,\n",
        "            rotation_range = 10\n",
        "        )\n",
        "        \n",
        "        self.images = []\n",
        "        self.age_labels = []        \n",
        "        self.ethnicity_labels = []\n",
        "        self.gender_labels = []\n",
        "        \n",
        "        for index, row in tqdm(df.iterrows()):\n",
        "            image = np.fromstring(row['pixels'], sep = ' ', dtype = np.uint8).reshape((48,48))\n",
        "            image = cv2.cvtColor(image, cv2.COLOR_GRAY2RGB)\n",
        "            \n",
        "            self.images.append(image)\n",
        "            \n",
        "            self.age_labels.append(row['age'])\n",
        "            self.ethnicity_labels.append(row['ethnicity'])\n",
        "            self.gender_labels.append(row['gender'])\n",
        "            \n",
        "            \n",
        "        self.images = np.array(self.images)\n",
        "        self.age_labels = np.array(self.age_labels).astype(np.float32)\n",
        "        self.ethnicity_labels = np.array(self.ethnicity_labels).astype(np.float32)\n",
        "        self.gender_labels = np.array(self.gender_labels).astype(np.float32)\n",
        "        \n",
        "        p = np.random.permutation(len(self.age_labels))\n",
        "        self.images = self.images[p]\n",
        "        self.age_labels = self.age_labels[p]\n",
        "        self.ethnicity_labels = to_categorical(self.ethnicity_labels[p], num_classes=5)\n",
        "        self.gender_labels = self.gender_labels[p]\n",
        "        \n",
        "        self.n = len(self.df)\n",
        "        \n",
        "    \n",
        "    def __getitem__(self, index):\n",
        "        images = []\n",
        "        \n",
        "        for i in range(self.batch_size):\n",
        "            image = self.images[index * self.batch_size + i]\n",
        "            \n",
        "            if self.data_augmentation:                \n",
        "                image = self.imageGenerator.random_transform(image)\n",
        "                \n",
        "            images.append(image)\n",
        "            \n",
        "        s = slice(self.batch_size * index, (index + 1) * self.batch_size)\n",
        "        return np.array(images), (self.age_labels[s], self.ethnicity_labels[s], self.gender_labels[s])\n",
        "    \n",
        "    def __len__(self):\n",
        "            \n",
        "        return self.n // self.batch_size\n",
        "    \n",
        "    def on_epoch_end(self):\n",
        "        \n",
        "        #Random permutation\n",
        "        p = np.random.permutation(len(self.age_labels))\n",
        "        self.images = self.images[p]\n",
        "        self.age_labels = self.age_labels[p]\n",
        "        self.ethnicity_labels = self.ethnicity_labels[p]\n",
        "        self.gender_labels = self.gender_labels[p]"
      ],
      "metadata": {
        "id": "A-ttD1FN9WUU"
      },
      "execution_count": null,
      "outputs": []
    },
    {
      "cell_type": "code",
      "source": [
        ""
      ],
      "metadata": {
        "id": "UjgoKedc9aXI"
      },
      "execution_count": null,
      "outputs": []
    },
    {
      "cell_type": "code",
      "execution_count": null,
      "metadata": {
        "id": "8xMqzTUDpivA",
        "colab": {
          "base_uri": "https://localhost:8080/",
          "height": 206
        },
        "outputId": "cea442eb-8f21-49cc-b97a-b52da54b04d4"
      },
      "outputs": [
        {
          "output_type": "execute_result",
          "data": {
            "text/plain": [
              "   age  ethnicity  gender                        img_name  \\\n",
              "0    1          2       0  20161219203650636.jpg.chip.jpg   \n",
              "1    1          2       0  20161219222752047.jpg.chip.jpg   \n",
              "2    1          2       0  20161219222832191.jpg.chip.jpg   \n",
              "3    1          2       0  20161220144911423.jpg.chip.jpg   \n",
              "4    1          2       0  20161220144914327.jpg.chip.jpg   \n",
              "\n",
              "                                              pixels  \n",
              "0  129 128 128 126 127 130 133 135 139 142 145 14...  \n",
              "1  164 74 111 168 169 171 175 182 184 188 193 199...  \n",
              "2  67 70 71 70 69 67 70 79 90 103 116 132 145 155...  \n",
              "3  193 197 198 200 199 200 202 203 204 205 208 21...  \n",
              "4  202 205 209 210 209 209 210 211 212 214 218 21...  "
            ],
            "text/html": [
              "\n",
              "  <div id=\"df-5838a73c-a068-4a58-9e62-b8cd5b609909\">\n",
              "    <div class=\"colab-df-container\">\n",
              "      <div>\n",
              "<style scoped>\n",
              "    .dataframe tbody tr th:only-of-type {\n",
              "        vertical-align: middle;\n",
              "    }\n",
              "\n",
              "    .dataframe tbody tr th {\n",
              "        vertical-align: top;\n",
              "    }\n",
              "\n",
              "    .dataframe thead th {\n",
              "        text-align: right;\n",
              "    }\n",
              "</style>\n",
              "<table border=\"1\" class=\"dataframe\">\n",
              "  <thead>\n",
              "    <tr style=\"text-align: right;\">\n",
              "      <th></th>\n",
              "      <th>age</th>\n",
              "      <th>ethnicity</th>\n",
              "      <th>gender</th>\n",
              "      <th>img_name</th>\n",
              "      <th>pixels</th>\n",
              "    </tr>\n",
              "  </thead>\n",
              "  <tbody>\n",
              "    <tr>\n",
              "      <th>0</th>\n",
              "      <td>1</td>\n",
              "      <td>2</td>\n",
              "      <td>0</td>\n",
              "      <td>20161219203650636.jpg.chip.jpg</td>\n",
              "      <td>129 128 128 126 127 130 133 135 139 142 145 14...</td>\n",
              "    </tr>\n",
              "    <tr>\n",
              "      <th>1</th>\n",
              "      <td>1</td>\n",
              "      <td>2</td>\n",
              "      <td>0</td>\n",
              "      <td>20161219222752047.jpg.chip.jpg</td>\n",
              "      <td>164 74 111 168 169 171 175 182 184 188 193 199...</td>\n",
              "    </tr>\n",
              "    <tr>\n",
              "      <th>2</th>\n",
              "      <td>1</td>\n",
              "      <td>2</td>\n",
              "      <td>0</td>\n",
              "      <td>20161219222832191.jpg.chip.jpg</td>\n",
              "      <td>67 70 71 70 69 67 70 79 90 103 116 132 145 155...</td>\n",
              "    </tr>\n",
              "    <tr>\n",
              "      <th>3</th>\n",
              "      <td>1</td>\n",
              "      <td>2</td>\n",
              "      <td>0</td>\n",
              "      <td>20161220144911423.jpg.chip.jpg</td>\n",
              "      <td>193 197 198 200 199 200 202 203 204 205 208 21...</td>\n",
              "    </tr>\n",
              "    <tr>\n",
              "      <th>4</th>\n",
              "      <td>1</td>\n",
              "      <td>2</td>\n",
              "      <td>0</td>\n",
              "      <td>20161220144914327.jpg.chip.jpg</td>\n",
              "      <td>202 205 209 210 209 209 210 211 212 214 218 21...</td>\n",
              "    </tr>\n",
              "  </tbody>\n",
              "</table>\n",
              "</div>\n",
              "      <button class=\"colab-df-convert\" onclick=\"convertToInteractive('df-5838a73c-a068-4a58-9e62-b8cd5b609909')\"\n",
              "              title=\"Convert this dataframe to an interactive table.\"\n",
              "              style=\"display:none;\">\n",
              "        \n",
              "  <svg xmlns=\"http://www.w3.org/2000/svg\" height=\"24px\"viewBox=\"0 0 24 24\"\n",
              "       width=\"24px\">\n",
              "    <path d=\"M0 0h24v24H0V0z\" fill=\"none\"/>\n",
              "    <path d=\"M18.56 5.44l.94 2.06.94-2.06 2.06-.94-2.06-.94-.94-2.06-.94 2.06-2.06.94zm-11 1L8.5 8.5l.94-2.06 2.06-.94-2.06-.94L8.5 2.5l-.94 2.06-2.06.94zm10 10l.94 2.06.94-2.06 2.06-.94-2.06-.94-.94-2.06-.94 2.06-2.06.94z\"/><path d=\"M17.41 7.96l-1.37-1.37c-.4-.4-.92-.59-1.43-.59-.52 0-1.04.2-1.43.59L10.3 9.45l-7.72 7.72c-.78.78-.78 2.05 0 2.83L4 21.41c.39.39.9.59 1.41.59.51 0 1.02-.2 1.41-.59l7.78-7.78 2.81-2.81c.8-.78.8-2.07 0-2.86zM5.41 20L4 18.59l7.72-7.72 1.47 1.35L5.41 20z\"/>\n",
              "  </svg>\n",
              "      </button>\n",
              "      \n",
              "  <style>\n",
              "    .colab-df-container {\n",
              "      display:flex;\n",
              "      flex-wrap:wrap;\n",
              "      gap: 12px;\n",
              "    }\n",
              "\n",
              "    .colab-df-convert {\n",
              "      background-color: #E8F0FE;\n",
              "      border: none;\n",
              "      border-radius: 50%;\n",
              "      cursor: pointer;\n",
              "      display: none;\n",
              "      fill: #1967D2;\n",
              "      height: 32px;\n",
              "      padding: 0 0 0 0;\n",
              "      width: 32px;\n",
              "    }\n",
              "\n",
              "    .colab-df-convert:hover {\n",
              "      background-color: #E2EBFA;\n",
              "      box-shadow: 0px 1px 2px rgba(60, 64, 67, 0.3), 0px 1px 3px 1px rgba(60, 64, 67, 0.15);\n",
              "      fill: #174EA6;\n",
              "    }\n",
              "\n",
              "    [theme=dark] .colab-df-convert {\n",
              "      background-color: #3B4455;\n",
              "      fill: #D2E3FC;\n",
              "    }\n",
              "\n",
              "    [theme=dark] .colab-df-convert:hover {\n",
              "      background-color: #434B5C;\n",
              "      box-shadow: 0px 1px 3px 1px rgba(0, 0, 0, 0.15);\n",
              "      filter: drop-shadow(0px 1px 2px rgba(0, 0, 0, 0.3));\n",
              "      fill: #FFFFFF;\n",
              "    }\n",
              "  </style>\n",
              "\n",
              "      <script>\n",
              "        const buttonEl =\n",
              "          document.querySelector('#df-5838a73c-a068-4a58-9e62-b8cd5b609909 button.colab-df-convert');\n",
              "        buttonEl.style.display =\n",
              "          google.colab.kernel.accessAllowed ? 'block' : 'none';\n",
              "\n",
              "        async function convertToInteractive(key) {\n",
              "          const element = document.querySelector('#df-5838a73c-a068-4a58-9e62-b8cd5b609909');\n",
              "          const dataTable =\n",
              "            await google.colab.kernel.invokeFunction('convertToInteractive',\n",
              "                                                     [key], {});\n",
              "          if (!dataTable) return;\n",
              "\n",
              "          const docLinkHtml = 'Like what you see? Visit the ' +\n",
              "            '<a target=\"_blank\" href=https://colab.research.google.com/notebooks/data_table.ipynb>data table notebook</a>'\n",
              "            + ' to learn more about interactive tables.';\n",
              "          element.innerHTML = '';\n",
              "          dataTable['output_type'] = 'display_data';\n",
              "          await google.colab.output.renderOutput(dataTable, element);\n",
              "          const docLink = document.createElement('div');\n",
              "          docLink.innerHTML = docLinkHtml;\n",
              "          element.appendChild(docLink);\n",
              "        }\n",
              "      </script>\n",
              "    </div>\n",
              "  </div>\n",
              "  "
            ]
          },
          "metadata": {},
          "execution_count": 5
        }
      ],
      "source": [
        "df.head()"
      ]
    },
    {
      "cell_type": "code",
      "execution_count": null,
      "metadata": {
        "id": "HkXx0NE4plB9",
        "colab": {
          "base_uri": "https://localhost:8080/",
          "height": 557
        },
        "outputId": "4f6e6960-6d61-4662-c9d2-1d2f47e1b237"
      },
      "outputs": [
        {
          "output_type": "stream",
          "name": "stderr",
          "text": [
            "/usr/local/lib/python3.7/dist-packages/seaborn/distributions.py:2619: FutureWarning: `distplot` is a deprecated function and will be removed in a future version. Please adapt your code to use either `displot` (a figure-level function with similar flexibility) or `histplot` (an axes-level function for histograms).\n",
            "  warnings.warn(msg, FutureWarning)\n"
          ]
        },
        {
          "output_type": "display_data",
          "data": {
            "text/plain": [
              "<Figure size 864x576 with 1 Axes>"
            ],
            "image/png": "[encoded data removed]"
          },
          "metadata": {
            "needs_background": "light"
          }
        }
      ],
      "source": [
        "plt.figure(figsize=(12,8))\n",
        "sns.distplot(df['age']);"
      ]
    },
    {
      "cell_type": "code",
      "execution_count": null,
      "metadata": {
        "id": "D_5OV4OSpmWc",
        "colab": {
          "base_uri": "https://localhost:8080/",
          "height": 340
        },
        "outputId": "004c85b3-497b-4603-b735-017bd6d5dd16"
      },
      "outputs": [
        {
          "output_type": "stream",
          "name": "stderr",
          "text": [
            "/usr/local/lib/python3.7/dist-packages/seaborn/_decorators.py:43: FutureWarning: Pass the following variable as a keyword arg: x. From version 0.12, the only valid positional argument will be `data`, and passing other arguments without an explicit keyword will result in an error or misinterpretation.\n",
            "  FutureWarning\n"
          ]
        },
        {
          "output_type": "display_data",
          "data": {
            "text/plain": [
              "<Figure size 432x288 with 1 Axes>"
            ],
            "image/png": "[encoded data removed]"
          },
          "metadata": {
            "needs_background": "light"
          }
        }
      ],
      "source": [
        "sns.countplot(df['gender']);"
      ]
    },
    {
      "cell_type": "code",
      "execution_count": null,
      "metadata": {
        "id": "bl1Zo2DSpod9"
      },
      "outputs": [],
      "source": [
        "df['pixels'] = df['pixels'].map(lambda x: np.array(x.split(' '), dtype=np.float32).reshape(48, 48))"
      ]
    },
    {
      "cell_type": "code",
      "execution_count": null,
      "metadata": {
        "id": "-yw_qpUzpq8L",
        "colab": {
          "base_uri": "https://localhost:8080/",
          "height": 239
        },
        "outputId": "1ed3c9b6-5cd5-4101-bca4-dd5b747ae872"
      },
      "outputs": [
        {
          "output_type": "display_data",
          "data": {
            "text/plain": [
              "<Figure size 1440x720 with 5 Axes>"
            ],
            "image/png": "[encoded data removed]"
          },
          "metadata": {
            "needs_background": "light"
          }
        }
      ],
      "source": [
        "fig, axes = plt.subplots(1, 5, figsize=(20, 10))\n",
        "\n",
        "for i in range(5):\n",
        "    random_face = np.random.choice(len(df))\n",
        "    \n",
        "    age = df['age'][random_face]\n",
        "    #ethnicity = df['ethnicity'][random_face]\n",
        "    gender = df['gender'][random_face]\n",
        "    \n",
        "    axes[i].set_title('Age: {0}, Sex: {1}'.format(age, gender))\n",
        "    axes[i].imshow(df['pixels'][random_face])\n",
        "    axes[i].axis('off')"
      ]
    },
    {
      "cell_type": "code",
      "execution_count": null,
      "metadata": {
        "id": "tyjaxcqXptmI"
      },
      "outputs": [],
      "source": [
        "X = np.array(df['pixels'].to_list())\n",
        "X_reshaped = X.reshape(X.shape[0],48,48,1)\n"
      ]
    },
    {
      "cell_type": "code",
      "execution_count": null,
      "metadata": {
        "id": "DHSoS1GhpvOq"
      },
      "outputs": [],
      "source": [
        "if np.max(X_reshaped) > 1: X_reshaped = X_reshaped /255"
      ]
    },
    {
      "cell_type": "code",
      "execution_count": null,
      "metadata": {
        "id": "lsaaAcwMpwvk"
      },
      "outputs": [],
      "source": [
        "input_shape = X_reshaped.shape[1:] "
      ]
    },
    {
      "cell_type": "code",
      "execution_count": null,
      "metadata": {
        "id": "_CQOcSIEpyOJ"
      },
      "outputs": [],
      "source": [
        "y = df['age'].values"
      ]
    },
    {
      "cell_type": "code",
      "execution_count": null,
      "metadata": {
        "id": "UVsamRAtpzit"
      },
      "outputs": [],
      "source": [
        "X_train, X_test, y_train, y_test = train_test_split(X_reshaped, y, test_size=0.2, random_state=42)"
      ]
    },
    {
      "cell_type": "code",
      "execution_count": null,
      "metadata": {
        "id": "Bp-k8Xr7p05M"
      },
      "outputs": [],
      "source": [
        "age_model = Sequential()\n",
        "\n",
        "age_model.add(Conv2D(64, kernel_size=(3,3), input_shape=input_shape, activation='relu'))\n",
        "age_model.add(MaxPooling2D(pool_size=(2,2)))\n",
        "age_model.add(BatchNormalization())\n",
        "\n",
        "age_model.add(Conv2D(128, kernel_size=(3,3), activation='relu', padding='same'))\n",
        "age_model.add(MaxPooling2D(pool_size=(2,2)))\n",
        "age_model.add(Dropout(0.3))\n",
        "age_model.add(BatchNormalization())\n",
        "\n",
        "age_model.add(Conv2D(256, kernel_size=(3,3), activation='relu', padding='same'))\n",
        "age_model.add(MaxPooling2D(pool_size=(2,2)))\n",
        "age_model.add(Dropout(0.3))\n",
        "age_model.add(BatchNormalization())\n",
        "\n",
        "age_model.add(Conv2D(512, kernel_size=(3,3), activation='relu', padding='same'))\n",
        "age_model.add(MaxPooling2D(pool_size=(2,2)))\n",
        "age_model.add(Dropout(0.5))\n",
        "age_model.add(BatchNormalization())\n",
        "\n",
        "age_model.add(Flatten())\n",
        "age_model.add(Dense(128, activation='relu'))\n",
        "age_model.add(Dropout(0.4))\n",
        "age_model.add(Dense(1))\n"
      ]
    },
    {
      "cell_type": "code",
      "execution_count": null,
      "metadata": {
        "id": "N92QQZjJp2Kz"
      },
      "outputs": [],
      "source": [
        "age_model.compile(optimizer='adam', loss='mse')"
      ]
    },
    {
      "cell_type": "code",
      "execution_count": null,
      "metadata": {
        "id": "_rq57_wrp4T0"
      },
      "outputs": [],
      "source": [
        "n_epochs = 50\n",
        "batch_size=64"
      ]
    },
    {
      "cell_type": "code",
      "execution_count": null,
      "metadata": {
        "id": "2LvvIcjSp5c3"
      },
      "outputs": [],
      "source": [
        "callbacks = [EarlyStopping(patience=4, monitor='val_loss', mode='min'), \n",
        "             ReduceLROnPlateau(patience=2, verbose=1)]"
      ]
    },
    {
      "cell_type": "code",
      "execution_count": null,
      "metadata": {
        "id": "9Ee2PP-fp6qw",
        "colab": {
          "base_uri": "https://localhost:8080/"
        },
        "outputId": "90214184-d79d-40ae-ebc6-80e7ebe48103"
      },
      "outputs": [
        {
          "output_type": "stream",
          "name": "stdout",
          "text": [
            "Epoch 1/50\n",
            "297/297 [==============================] - 30s 53ms/step - loss: 228.5490 - val_loss: 3402.0564 - lr: 0.0010\n",
            "Epoch 2/50\n",
            "297/297 [==============================] - 15s 49ms/step - loss: 139.0259 - val_loss: 536.4144 - lr: 0.0010\n",
            "Epoch 3/50\n",
            "297/297 [==============================] - 15s 49ms/step - loss: 118.5313 - val_loss: 133.0802 - lr: 0.0010\n",
            "Epoch 4/50\n",
            "297/297 [==============================] - 15s 50ms/step - loss: 109.2675 - val_loss: 101.3812 - lr: 0.0010\n",
            "Epoch 5/50\n",
            "297/297 [==============================] - 15s 49ms/step - loss: 101.9180 - val_loss: 645.2595 - lr: 0.0010\n",
            "Epoch 6/50\n",
            "296/297 [============================>.] - ETA: 0s - loss: 93.4467\n",
            "Epoch 6: ReduceLROnPlateau reducing learning rate to 0.00010000000474974513.\n",
            "297/297 [==============================] - 14s 49ms/step - loss: 93.4897 - val_loss: 154.6314 - lr: 0.0010\n",
            "Epoch 7/50\n",
            "297/297 [==============================] - 14s 49ms/step - loss: 80.0574 - val_loss: 72.7521 - lr: 1.0000e-04\n",
            "Epoch 8/50\n",
            "297/297 [==============================] - 15s 49ms/step - loss: 74.4505 - val_loss: 74.5888 - lr: 1.0000e-04\n",
            "Epoch 9/50\n",
            "297/297 [==============================] - ETA: 0s - loss: 73.5353\n",
            "Epoch 9: ReduceLROnPlateau reducing learning rate to 1.0000000474974514e-05.\n",
            "297/297 [==============================] - 15s 49ms/step - loss: 73.5353 - val_loss: 87.3122 - lr: 1.0000e-04\n",
            "Epoch 10/50\n",
            "297/297 [==============================] - 15s 50ms/step - loss: 68.9662 - val_loss: 67.9744 - lr: 1.0000e-05\n",
            "Epoch 11/50\n",
            "297/297 [==============================] - 15s 51ms/step - loss: 70.0119 - val_loss: 68.0560 - lr: 1.0000e-05\n",
            "Epoch 12/50\n",
            "297/297 [==============================] - 15s 49ms/step - loss: 68.9611 - val_loss: 67.2895 - lr: 1.0000e-05\n",
            "Epoch 13/50\n",
            "297/297 [==============================] - 14s 49ms/step - loss: 70.4532 - val_loss: 68.8782 - lr: 1.0000e-05\n",
            "Epoch 14/50\n",
            "297/297 [==============================] - ETA: 0s - loss: 69.3517\n",
            "Epoch 14: ReduceLROnPlateau reducing learning rate to 1.0000000656873453e-06.\n",
            "297/297 [==============================] - 14s 49ms/step - loss: 69.3517 - val_loss: 67.9058 - lr: 1.0000e-05\n",
            "Epoch 15/50\n",
            "297/297 [==============================] - 14s 49ms/step - loss: 68.9144 - val_loss: 68.1777 - lr: 1.0000e-06\n",
            "Epoch 16/50\n",
            "297/297 [==============================] - ETA: 0s - loss: 69.3522\n",
            "Epoch 16: ReduceLROnPlateau reducing learning rate to 1.0000001111620805e-07.\n",
            "297/297 [==============================] - 14s 49ms/step - loss: 69.3522 - val_loss: 67.8472 - lr: 1.0000e-06\n"
          ]
        }
      ],
      "source": [
        "history = age_model.fit(X_train, y_train, \n",
        "                           epochs=n_epochs,\n",
        "                           batch_size=batch_size,\n",
        "                           callbacks=callbacks,\n",
        "                           validation_data=(X_test, y_test))"
      ]
    },
    {
      "cell_type": "code",
      "execution_count": null,
      "metadata": {
        "colab": {
          "base_uri": "https://localhost:8080/",
          "height": 268
        },
        "id": "JYZbpw3np7_v",
        "outputId": "8c2ff264-3627-4766-c052-1f05f81a3e91"
      },
      "outputs": [
        {
          "output_type": "display_data",
          "data": {
            "text/plain": [
              "<Figure size 432x288 with 1 Axes>"
            ],
            "image/png": "[encoded data removed]"
          },
          "metadata": {
            "needs_background": "light"
          }
        }
      ],
      "source": [
        "pd.DataFrame(history.history).plot();"
      ]
    },
    {
      "cell_type": "code",
      "execution_count": null,
      "metadata": {
        "colab": {
          "base_uri": "https://localhost:8080/"
        },
        "id": "tMge6-ExrgNK",
        "outputId": "9b79d6c2-6342-44e3-fcb1-22a4738263be"
      },
      "outputs": [
        {
          "output_type": "stream",
          "name": "stdout",
          "text": [
            "149/149 [==============================] - 2s 10ms/step - loss: 67.8471\n"
          ]
        }
      ],
      "source": [
        "valid_score = age_model.evaluate(X_test, y_test, verbose=1)"
      ]
    },
    {
      "cell_type": "code",
      "execution_count": null,
      "metadata": {
        "id": "HzPr4IhNriNI"
      },
      "outputs": [],
      "source": [
        "y_pred = age_model.predict(X_test)"
      ]
    },
    {
      "cell_type": "code",
      "execution_count": null,
      "metadata": {
        "colab": {
          "base_uri": "https://localhost:8080/",
          "height": 301
        },
        "id": "i3vEwczzrjnI",
        "outputId": "19371aa2-1cb6-48f8-a7cc-9571cd18abc1"
      },
      "outputs": [
        {
          "output_type": "display_data",
          "data": {
            "text/plain": [
              "<Figure size 432x288 with 1 Axes>"
            ],
            "image/png": "[encoded data removed]"
          },
          "metadata": {
            "needs_background": "light"
          }
        }
      ],
      "source": [
        "plt.plot(history.history['loss'])\n",
        "plt.plot(history.history['val_loss'])\n",
        "plt.title('model loss')\n",
        "plt.ylabel('loss')\n",
        "plt.xlabel('epoch')\n",
        "plt.legend(['train', 'validation'], loc='upper left')\n",
        "plt.show()"
      ]
    },
    {
      "cell_type": "code",
      "execution_count": null,
      "metadata": {
        "colab": {
          "base_uri": "https://localhost:8080/"
        },
        "id": "mIkkgH26rk7m",
        "outputId": "474146fc-6dfc-4ee6-c3c3-609c0a801ad1"
      },
      "outputs": [
        {
          "output_type": "stream",
          "name": "stdout",
          "text": [
            "MAE: 5.946505042451063\n"
          ]
        }
      ],
      "source": [
        "print(\"MAE: {}\".format(mean_absolute_error(y_test, y_pred)))"
      ]
    },
    {
      "cell_type": "code",
      "execution_count": null,
      "metadata": {
        "id": "A8V2JaNlrmda"
      },
      "outputs": [],
      "source": [
        "y = df['gender'].values\n",
        "X_train, X_test, y_train, y_test = train_test_split(X_reshaped, y, test_size=0.2, random_state=42)"
      ]
    },
    {
      "cell_type": "code",
      "execution_count": null,
      "metadata": {
        "colab": {
          "base_uri": "https://localhost:8080/"
        },
        "id": "6i83QE5EroCq",
        "outputId": "9ee09ac2-0604-438c-d153-923e2c075651"
      },
      "outputs": [
        {
          "output_type": "stream",
          "name": "stdout",
          "text": [
            "Model: \"sequential_1\"\n",
            "_________________________________________________________________\n",
            " Layer (type)                Output Shape              Param #   \n",
            "=================================================================\n",
            " conv2d_4 (Conv2D)           (None, 46, 46, 64)        640       \n",
            "                                                                 \n",
            " max_pooling2d_4 (MaxPooling  (None, 23, 23, 64)       0         \n",
            " 2D)                                                             \n",
            "                                                                 \n",
            " batch_normalization_4 (Batc  (None, 23, 23, 64)       256       \n",
            " hNormalization)                                                 \n",
            "                                                                 \n",
            " conv2d_5 (Conv2D)           (None, 23, 23, 128)       73856     \n",
            "                                                                 \n",
            " max_pooling2d_5 (MaxPooling  (None, 11, 11, 128)      0         \n",
            " 2D)                                                             \n",
            "                                                                 \n",
            " dropout_4 (Dropout)         (None, 11, 11, 128)       0         \n",
            "                                                                 \n",
            " batch_normalization_5 (Batc  (None, 11, 11, 128)      512       \n",
            " hNormalization)                                                 \n",
            "                                                                 \n",
            " conv2d_6 (Conv2D)           (None, 11, 11, 256)       295168    \n",
            "                                                                 \n",
            " max_pooling2d_6 (MaxPooling  (None, 5, 5, 256)        0         \n",
            " 2D)                                                             \n",
            "                                                                 \n",
            " dropout_5 (Dropout)         (None, 5, 5, 256)         0         \n",
            "                                                                 \n",
            " batch_normalization_6 (Batc  (None, 5, 5, 256)        1024      \n",
            " hNormalization)                                                 \n",
            "                                                                 \n",
            " conv2d_7 (Conv2D)           (None, 5, 5, 512)         1180160   \n",
            "                                                                 \n",
            " max_pooling2d_7 (MaxPooling  (None, 2, 2, 512)        0         \n",
            " 2D)                                                             \n",
            "                                                                 \n",
            " dropout_6 (Dropout)         (None, 2, 2, 512)         0         \n",
            "                                                                 \n",
            " batch_normalization_7 (Batc  (None, 2, 2, 512)        2048      \n",
            " hNormalization)                                                 \n",
            "                                                                 \n",
            " flatten_1 (Flatten)         (None, 2048)              0         \n",
            "                                                                 \n",
            " dense_2 (Dense)             (None, 64)                131136    \n",
            "                                                                 \n",
            " dropout_7 (Dropout)         (None, 64)                0         \n",
            "                                                                 \n",
            " dense_3 (Dense)             (None, 1)                 65        \n",
            "                                                                 \n",
            "=================================================================\n",
            "Total params: 1,684,865\n",
            "Trainable params: 1,682,945\n",
            "Non-trainable params: 1,920\n",
            "_________________________________________________________________\n"
          ]
        }
      ],
      "source": [
        "gender_model = Sequential()\n",
        "\n",
        "gender_model.add(Conv2D(64, kernel_size=(3,3), input_shape=input_shape, activation='relu'))\n",
        "gender_model.add(MaxPooling2D(pool_size=(2,2)))\n",
        "gender_model.add(BatchNormalization())\n",
        "\n",
        "gender_model.add(Conv2D(128, kernel_size=(3,3), activation='relu', padding='same'))\n",
        "gender_model.add(MaxPooling2D(pool_size=(2,2)))\n",
        "gender_model.add(Dropout(0.4))\n",
        "gender_model.add(BatchNormalization())\n",
        "\n",
        "gender_model.add(Conv2D(256, kernel_size=(3,3), activation='relu', padding='same'))\n",
        "gender_model.add(MaxPooling2D(pool_size=(2,2)))\n",
        "gender_model.add(Dropout(0.5))\n",
        "gender_model.add(BatchNormalization())\n",
        "\n",
        "gender_model.add(Conv2D(512, kernel_size=(3,3), activation='relu', padding='same'))\n",
        "gender_model.add(MaxPooling2D(pool_size=(2,2)))\n",
        "gender_model.add(Dropout(0.5))\n",
        "gender_model.add(BatchNormalization())\n",
        "\n",
        "gender_model.add(Flatten())\n",
        "gender_model.add(Dense(64, activation='relu'))\n",
        "gender_model.add(Dropout(0.4))\n",
        "\n",
        "gender_model.add(Dense(1, activation='sigmoid')) #For binary classification activation function is sigmoid \n",
        "\n",
        "gender_model.compile(optimizer='adam', loss='binary_crossentropy', metrics=['accuracy']) #...and loss function is binary_crossentropy\n",
        "\n",
        "gender_model.summary()\n"
      ]
    },
    {
      "cell_type": "code",
      "execution_count": null,
      "metadata": {
        "id": "K9N1H7N8sXpR"
      },
      "outputs": [],
      "source": [
        "callbacks = [EarlyStopping(patience=4, monitor='val_accuracy', mode='max'), \n",
        "              ReduceLROnPlateau(patience=2, verbose=1)]"
      ]
    },
    {
      "cell_type": "code",
      "execution_count": null,
      "metadata": {
        "colab": {
          "base_uri": "https://localhost:8080/"
        },
        "id": "eNmaUaeWsZWD",
        "outputId": "f1452dd9-7eb9-42ac-deb5-07df77120a0e"
      },
      "outputs": [
        {
          "output_type": "stream",
          "name": "stdout",
          "text": [
            "Epoch 1/50\n",
            "297/297 [==============================] - 17s 51ms/step - loss: 0.5646 - accuracy: 0.7253 - val_loss: 0.9918 - val_accuracy: 0.5206 - lr: 0.0010\n",
            "Epoch 2/50\n",
            "297/297 [==============================] - 15s 49ms/step - loss: 0.3828 - accuracy: 0.8264 - val_loss: 0.3514 - val_accuracy: 0.8365 - lr: 0.0010\n",
            "Epoch 3/50\n",
            "297/297 [==============================] - 15s 50ms/step - loss: 0.3339 - accuracy: 0.8515 - val_loss: 0.3009 - val_accuracy: 0.8578 - lr: 0.0010\n",
            "Epoch 4/50\n",
            "297/297 [==============================] - 14s 49ms/step - loss: 0.3055 - accuracy: 0.8640 - val_loss: 0.4310 - val_accuracy: 0.8040 - lr: 0.0010\n",
            "Epoch 5/50\n",
            "297/297 [==============================] - 15s 50ms/step - loss: 0.2850 - accuracy: 0.8740 - val_loss: 0.2845 - val_accuracy: 0.8781 - lr: 0.0010\n",
            "Epoch 6/50\n",
            "297/297 [==============================] - 15s 49ms/step - loss: 0.2697 - accuracy: 0.8835 - val_loss: 0.2502 - val_accuracy: 0.8956 - lr: 0.0010\n",
            "Epoch 7/50\n",
            "297/297 [==============================] - 15s 50ms/step - loss: 0.2548 - accuracy: 0.8922 - val_loss: 0.2880 - val_accuracy: 0.8800 - lr: 0.0010\n",
            "Epoch 8/50\n",
            "297/297 [==============================] - ETA: 0s - loss: 0.2420 - accuracy: 0.8949\n",
            "Epoch 8: ReduceLROnPlateau reducing learning rate to 0.00010000000474974513.\n",
            "297/297 [==============================] - 15s 49ms/step - loss: 0.2420 - accuracy: 0.8949 - val_loss: 0.2639 - val_accuracy: 0.8869 - lr: 0.0010\n",
            "Epoch 9/50\n",
            "297/297 [==============================] - 15s 49ms/step - loss: 0.2132 - accuracy: 0.9119 - val_loss: 0.2275 - val_accuracy: 0.9089 - lr: 1.0000e-04\n",
            "Epoch 10/50\n",
            "297/297 [==============================] - 15s 50ms/step - loss: 0.2042 - accuracy: 0.9137 - val_loss: 0.2293 - val_accuracy: 0.9104 - lr: 1.0000e-04\n",
            "Epoch 11/50\n",
            "297/297 [==============================] - ETA: 0s - loss: 0.1999 - accuracy: 0.9169\n",
            "Epoch 11: ReduceLROnPlateau reducing learning rate to 1.0000000474974514e-05.\n",
            "297/297 [==============================] - 15s 50ms/step - loss: 0.1999 - accuracy: 0.9169 - val_loss: 0.2307 - val_accuracy: 0.9123 - lr: 1.0000e-04\n",
            "Epoch 12/50\n",
            "297/297 [==============================] - 15s 50ms/step - loss: 0.1974 - accuracy: 0.9175 - val_loss: 0.2291 - val_accuracy: 0.9133 - lr: 1.0000e-05\n",
            "Epoch 13/50\n",
            "296/297 [============================>.] - ETA: 0s - loss: 0.1937 - accuracy: 0.9181\n",
            "Epoch 13: ReduceLROnPlateau reducing learning rate to 1.0000000656873453e-06.\n",
            "297/297 [==============================] - 15s 49ms/step - loss: 0.1942 - accuracy: 0.9180 - val_loss: 0.2289 - val_accuracy: 0.9135 - lr: 1.0000e-05\n",
            "Epoch 14/50\n",
            "297/297 [==============================] - 15s 49ms/step - loss: 0.1963 - accuracy: 0.9167 - val_loss: 0.2283 - val_accuracy: 0.9139 - lr: 1.0000e-06\n",
            "Epoch 15/50\n",
            "297/297 [==============================] - ETA: 0s - loss: 0.1914 - accuracy: 0.9184\n",
            "Epoch 15: ReduceLROnPlateau reducing learning rate to 1.0000001111620805e-07.\n",
            "297/297 [==============================] - 14s 49ms/step - loss: 0.1914 - accuracy: 0.9184 - val_loss: 0.2282 - val_accuracy: 0.9135 - lr: 1.0000e-06\n",
            "Epoch 16/50\n",
            "297/297 [==============================] - 15s 49ms/step - loss: 0.1946 - accuracy: 0.9172 - val_loss: 0.2283 - val_accuracy: 0.9137 - lr: 1.0000e-07\n",
            "Epoch 17/50\n",
            "296/297 [============================>.] - ETA: 0s - loss: 0.1922 - accuracy: 0.9196\n",
            "Epoch 17: ReduceLROnPlateau reducing learning rate to 1.000000082740371e-08.\n",
            "297/297 [==============================] - 15s 49ms/step - loss: 0.1921 - accuracy: 0.9195 - val_loss: 0.2283 - val_accuracy: 0.9135 - lr: 1.0000e-07\n",
            "Epoch 18/50\n",
            "297/297 [==============================] - 15s 49ms/step - loss: 0.1892 - accuracy: 0.9212 - val_loss: 0.2285 - val_accuracy: 0.9139 - lr: 1.0000e-08\n"
          ]
        }
      ],
      "source": [
        "history = gender_model.fit(X_train, y_train, \n",
        "                           epochs=n_epochs,\n",
        "                           batch_size=batch_size,\n",
        "                           callbacks=callbacks,\n",
        "                           validation_data=(X_test, y_test))"
      ]
    },
    {
      "cell_type": "code",
      "execution_count": null,
      "metadata": {
        "id": "d0kIp-Ydsae-",
        "colab": {
          "base_uri": "https://localhost:8080/"
        },
        "outputId": "1694f7da-fe77-4eb4-82e4-e1a9761b6d09"
      },
      "outputs": [
        {
          "output_type": "stream",
          "name": "stdout",
          "text": [
            "149/149 [==============================] - 2s 10ms/step - loss: 0.2285 - accuracy: 0.9139\n",
            "Accuracy for test set: 0.9139422178268433\n"
          ]
        }
      ],
      "source": [
        "valid_score = gender_model.evaluate(X_test, y_test, verbose=1)\n",
        "print('Accuracy for test set: {0}'.format(valid_score[1]))"
      ]
    },
    {
      "cell_type": "code",
      "execution_count": null,
      "metadata": {
        "id": "6-TxZr38s7nP"
      },
      "outputs": [],
      "source": [
        "y_pred = gender_model.predict(X_test)\n",
        "y_pred = np.round(y_pred).astype(int)"
      ]
    },
    {
      "cell_type": "code",
      "execution_count": null,
      "metadata": {
        "id": "srZo1aPQs97W",
        "colab": {
          "base_uri": "https://localhost:8080/"
        },
        "outputId": "1f4fcf77-c874-4a6f-9d6c-a018194171d9"
      },
      "outputs": [
        {
          "output_type": "stream",
          "name": "stdout",
          "text": [
            "              precision    recall  f1-score   support\n",
            "\n",
            "           0       0.92      0.92      0.92      2468\n",
            "           1       0.91      0.91      0.91      2273\n",
            "\n",
            "    accuracy                           0.91      4741\n",
            "   macro avg       0.91      0.91      0.91      4741\n",
            "weighted avg       0.91      0.91      0.91      4741\n",
            "\n"
          ]
        }
      ],
      "source": [
        "print(classification_report(y_test, y_pred))"
      ]
    },
    {
      "cell_type": "code",
      "execution_count": null,
      "metadata": {
        "id": "szgtRzops_ku",
        "colab": {
          "base_uri": "https://localhost:8080/",
          "height": 268
        },
        "outputId": "56aaea40-c3aa-4a57-9112-e014f383ccdf"
      },
      "outputs": [
        {
          "output_type": "display_data",
          "data": {
            "text/plain": [
              "<Figure size 432x288 with 1 Axes>"
            ],
            "image/png": "[encoded data removed]"
          },
          "metadata": {
            "needs_background": "light"
          }
        }
      ],
      "source": [
        "cm = confusion_matrix(y_test, y_pred)\n",
        "sns.heatmap(cm, cmap='Greens', cbar=False, annot=True, fmt='d');\n"
      ]
    },
    {
      "cell_type": "code",
      "execution_count": null,
      "metadata": {
        "id": "mxzUw0HZtA6z"
      },
      "outputs": [],
      "source": [
        "y_pred = y_pred.reshape(y_pred.shape[0])"
      ]
    },
    {
      "cell_type": "code",
      "execution_count": null,
      "metadata": {
        "id": "HSTqjb9HtCbh",
        "colab": {
          "base_uri": "https://localhost:8080/"
        },
        "outputId": "be1edca3-4b9d-48ad-c064-6415488755fa"
      },
      "outputs": [
        {
          "output_type": "execute_result",
          "data": {
            "text/plain": [
              "array([[0., 0., 1., 0., 0.],\n",
              "       [0., 0., 1., 0., 0.],\n",
              "       [0., 0., 1., 0., 0.],\n",
              "       ...,\n",
              "       [0., 0., 1., 0., 0.],\n",
              "       [0., 0., 1., 0., 0.],\n",
              "       [1., 0., 0., 0., 0.]], dtype=float32)"
            ]
          },
          "metadata": {},
          "execution_count": 34
        }
      ],
      "source": [
        "y = df['ethnicity'].values\n",
        "\n",
        "y = to_categorical(y, 5)\n",
        "y"
      ]
    },
    {
      "cell_type": "code",
      "execution_count": null,
      "metadata": {
        "id": "1GpdxQ7rtEM4"
      },
      "outputs": [],
      "source": [
        "  y_pred = age_model.predict(X_test)\n",
        "y_pred = np.round(y_pred).astype(int)"
      ]
    },
    {
      "cell_type": "code",
      "source": [
        "print(classification_report(y_test, y_pred))"
      ],
      "metadata": {
        "id": "gPJ2WOmcyyVz",
        "colab": {
          "base_uri": "https://localhost:8080/"
        },
        "outputId": "dadcdac3-b864-48e8-f631-4011955baa90"
      },
      "execution_count": null,
      "outputs": [
        {
          "output_type": "stream",
          "name": "stdout",
          "text": [
            "              precision    recall  f1-score   support\n",
            "\n",
            "           0       0.00      0.00      0.00      2468\n",
            "           1       0.40      0.02      0.04      2273\n",
            "           2       0.00      0.00      0.00         0\n",
            "           3       0.00      0.00      0.00         0\n",
            "           4       0.00      0.00      0.00         0\n",
            "           5       0.00      0.00      0.00         0\n",
            "           6       0.00      0.00      0.00         0\n",
            "           7       0.00      0.00      0.00         0\n",
            "           8       0.00      0.00      0.00         0\n",
            "           9       0.00      0.00      0.00         0\n",
            "          10       0.00      0.00      0.00         0\n",
            "          11       0.00      0.00      0.00         0\n",
            "          12       0.00      0.00      0.00         0\n",
            "          13       0.00      0.00      0.00         0\n",
            "          14       0.00      0.00      0.00         0\n",
            "          15       0.00      0.00      0.00         0\n",
            "          16       0.00      0.00      0.00         0\n",
            "          17       0.00      0.00      0.00         0\n",
            "          18       0.00      0.00      0.00         0\n",
            "          19       0.00      0.00      0.00         0\n",
            "          20       0.00      0.00      0.00         0\n",
            "          21       0.00      0.00      0.00         0\n",
            "          22       0.00      0.00      0.00         0\n",
            "          23       0.00      0.00      0.00         0\n",
            "          24       0.00      0.00      0.00         0\n",
            "          25       0.00      0.00      0.00         0\n",
            "          26       0.00      0.00      0.00         0\n",
            "          27       0.00      0.00      0.00         0\n",
            "          28       0.00      0.00      0.00         0\n",
            "          29       0.00      0.00      0.00         0\n",
            "          30       0.00      0.00      0.00         0\n",
            "          31       0.00      0.00      0.00         0\n",
            "          32       0.00      0.00      0.00         0\n",
            "          33       0.00      0.00      0.00         0\n",
            "          34       0.00      0.00      0.00         0\n",
            "          35       0.00      0.00      0.00         0\n",
            "          36       0.00      0.00      0.00         0\n",
            "          37       0.00      0.00      0.00         0\n",
            "          38       0.00      0.00      0.00         0\n",
            "          39       0.00      0.00      0.00         0\n",
            "          40       0.00      0.00      0.00         0\n",
            "          41       0.00      0.00      0.00         0\n",
            "          42       0.00      0.00      0.00         0\n",
            "          43       0.00      0.00      0.00         0\n",
            "          44       0.00      0.00      0.00         0\n",
            "          45       0.00      0.00      0.00         0\n",
            "          46       0.00      0.00      0.00         0\n",
            "          47       0.00      0.00      0.00         0\n",
            "          48       0.00      0.00      0.00         0\n",
            "          49       0.00      0.00      0.00         0\n",
            "          50       0.00      0.00      0.00         0\n",
            "          51       0.00      0.00      0.00         0\n",
            "          52       0.00      0.00      0.00         0\n",
            "          53       0.00      0.00      0.00         0\n",
            "          54       0.00      0.00      0.00         0\n",
            "          55       0.00      0.00      0.00         0\n",
            "          56       0.00      0.00      0.00         0\n",
            "          57       0.00      0.00      0.00         0\n",
            "          58       0.00      0.00      0.00         0\n",
            "          59       0.00      0.00      0.00         0\n",
            "          60       0.00      0.00      0.00         0\n",
            "          61       0.00      0.00      0.00         0\n",
            "          62       0.00      0.00      0.00         0\n",
            "          63       0.00      0.00      0.00         0\n",
            "          64       0.00      0.00      0.00         0\n",
            "          65       0.00      0.00      0.00         0\n",
            "          66       0.00      0.00      0.00         0\n",
            "          67       0.00      0.00      0.00         0\n",
            "          68       0.00      0.00      0.00         0\n",
            "          69       0.00      0.00      0.00         0\n",
            "          70       0.00      0.00      0.00         0\n",
            "          71       0.00      0.00      0.00         0\n",
            "          72       0.00      0.00      0.00         0\n",
            "          73       0.00      0.00      0.00         0\n",
            "          74       0.00      0.00      0.00         0\n",
            "          75       0.00      0.00      0.00         0\n",
            "          76       0.00      0.00      0.00         0\n",
            "          77       0.00      0.00      0.00         0\n",
            "          78       0.00      0.00      0.00         0\n",
            "          79       0.00      0.00      0.00         0\n",
            "          80       0.00      0.00      0.00         0\n",
            "          81       0.00      0.00      0.00         0\n",
            "          82       0.00      0.00      0.00         0\n",
            "          83       0.00      0.00      0.00         0\n",
            "          84       0.00      0.00      0.00         0\n",
            "          85       0.00      0.00      0.00         0\n",
            "          86       0.00      0.00      0.00         0\n",
            "          87       0.00      0.00      0.00         0\n",
            "          89       0.00      0.00      0.00         0\n",
            "          90       0.00      0.00      0.00         0\n",
            "          91       0.00      0.00      0.00         0\n",
            "          92       0.00      0.00      0.00         0\n",
            "          93       0.00      0.00      0.00         0\n",
            "          94       0.00      0.00      0.00         0\n",
            "          95       0.00      0.00      0.00         0\n",
            "          96       0.00      0.00      0.00         0\n",
            "          97       0.00      0.00      0.00         0\n",
            "          98       0.00      0.00      0.00         0\n",
            "          99       0.00      0.00      0.00         0\n",
            "         101       0.00      0.00      0.00         0\n",
            "         103       0.00      0.00      0.00         0\n",
            "\n",
            "    accuracy                           0.01      4741\n",
            "   macro avg       0.00      0.00      0.00      4741\n",
            "weighted avg       0.19      0.01      0.02      4741\n",
            "\n"
          ]
        },
        {
          "output_type": "stream",
          "name": "stderr",
          "text": [
            "/usr/local/lib/python3.7/dist-packages/sklearn/metrics/_classification.py:1318: UndefinedMetricWarning: Precision and F-score are ill-defined and being set to 0.0 in labels with no predicted samples. Use `zero_division` parameter to control this behavior.\n",
            "  _warn_prf(average, modifier, msg_start, len(result))\n",
            "/usr/local/lib/python3.7/dist-packages/sklearn/metrics/_classification.py:1318: UndefinedMetricWarning: Recall and F-score are ill-defined and being set to 0.0 in labels with no true samples. Use `zero_division` parameter to control this behavior.\n",
            "  _warn_prf(average, modifier, msg_start, len(result))\n",
            "/usr/local/lib/python3.7/dist-packages/sklearn/metrics/_classification.py:1318: UndefinedMetricWarning: Precision and F-score are ill-defined and being set to 0.0 in labels with no predicted samples. Use `zero_division` parameter to control this behavior.\n",
            "  _warn_prf(average, modifier, msg_start, len(result))\n",
            "/usr/local/lib/python3.7/dist-packages/sklearn/metrics/_classification.py:1318: UndefinedMetricWarning: Recall and F-score are ill-defined and being set to 0.0 in labels with no true samples. Use `zero_division` parameter to control this behavior.\n",
            "  _warn_prf(average, modifier, msg_start, len(result))\n",
            "/usr/local/lib/python3.7/dist-packages/sklearn/metrics/_classification.py:1318: UndefinedMetricWarning: Precision and F-score are ill-defined and being set to 0.0 in labels with no predicted samples. Use `zero_division` parameter to control this behavior.\n",
            "  _warn_prf(average, modifier, msg_start, len(result))\n",
            "/usr/local/lib/python3.7/dist-packages/sklearn/metrics/_classification.py:1318: UndefinedMetricWarning: Recall and F-score are ill-defined and being set to 0.0 in labels with no true samples. Use `zero_division` parameter to control this behavior.\n",
            "  _warn_prf(average, modifier, msg_start, len(result))\n"
          ]
        }
      ]
    },
    {
      "cell_type": "code",
      "source": [
        "cm = confusion_matrix(y_test, y_pred)\n",
        "sns.heatmap(cm, cmap='Greens', cbar=False, annot=True, fmt='d');\n"
      ],
      "metadata": {
        "id": "a2MgQGlXy1nN",
        "colab": {
          "base_uri": "https://localhost:8080/",
          "height": 283
        },
        "outputId": "ae7822c3-24c7-4591-9174-34f4679dca03"
      },
      "execution_count": null,
      "outputs": [
        {
          "output_type": "display_data",
          "data": {
            "text/plain": [
              "<Figure size 432x288 with 1 Axes>"
            ],
            "image/png": "[encoded data removed]"
          },
          "metadata": {
            "needs_background": "light"
          }
        }
      ]
    }
  ],
  "metadata": {
    "accelerator": "GPU",
    "colab": {
      "name": "CNN.ipynb",
      "provenance": [],
      "collapsed_sections": []
    },
    "kernelspec": {
      "display_name": "Python 3",
      "name": "python3"
    },
    "language_info": {
      "name": "python"
    }
  },
  "nbformat": 4,
  "nbformat_minor": 0
}